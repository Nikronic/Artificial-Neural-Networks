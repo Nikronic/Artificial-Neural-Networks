{
 "cells": [
  {
   "cell_type": "markdown",
   "metadata": {},
   "source": [
    "# MLP With Backpropagation For Non-Linear Data (XOR)\n",
    "\n",
    "This post consists of:\n",
    "0. Generating Synthetic Data\n",
    "1. Network Structure\n",
    "2. Preparing Data\n",
    "    1. Convert Data to Numpy Array\n",
    "    2. Create Labels\n",
    "    3. Shuffle Data\n",
    "    4. Split Into Train and Test\n",
    "3. Build Perceptron\n",
    "4. Training and Evaluation"
   ]
  },
  {
   "cell_type": "markdown",
   "metadata": {},
   "source": [
    "## 0 Generating Synthetic Data\n",
    "In this section we just generate 200 randomly sampled data which are **linearly** separable."
   ]
  },
  {
   "cell_type": "code",
   "execution_count": 2,
   "metadata": {},
   "outputs": [
    {
     "data": {
      "image/png": "[encoded data removed]",
      "text/plain": [
       "<Figure size 432x288 with 1 Axes>"
      ]
     },
     "metadata": {},
     "output_type": "display_data"
    }
   ],
   "source": [
    "import numpy as np\n",
    "######################\n",
    "# Create random data\n",
    "#####################\n",
    "Positive = np.random.normal(100,15,1000)\n",
    "Negative = np.random.normal(-100,15,1000)\n",
    "PN=[(x,y) for x,y in zip(Positive,Negative)]\n",
    "NP=[(x,y) for x,y in zip(Negative,Positive)]\n",
    "PP=[(x,y) for x,y in zip(Positive,-1*(Negative))]\n",
    "NN=[(x,y) for x,y in zip(-1*(Positive),1*(Negative))]\n",
    "N_class = PN + NP\n",
    "P_class = PP + NN\n",
    "\n",
    "########################\n",
    "# Data Visualization\n",
    "########################\n",
    "import matplotlib.pyplot as plt\n",
    "plt.plot([x for x,y in N_class], [y for x,y in N_class], 'go', label='P')\n",
    "plt.plot([x for x,y in P_class], [y for x,y in P_class], 'ro', label='N')\n",
    "\n",
    "plt.title('synthetic data-set for XOR problem')\n",
    "plt.xlabel('x')\n",
    "plt.ylabel('y')\n",
    "plt.legend(loc='lower right')\n",
    "\n",
    "plt.show()"
   ]
  },
  {
   "cell_type": "markdown",
   "metadata": {},
   "source": [
    "## 1 Network Structure\n",
    "1. XOR problem is not linear so a single perceptron cannot separate data into desired classes but two perceptron can do this. Each perceptron handle a line and we know we can separate the classes using two straight lines. So we need another perceptron at the end to handle the combination of the outputs of two prior perceptrons. So we need 3 perceptron, 2 at first layer and one at the end to handle mapping to classes.\n",
    "2. The number of features here are 2 so the I have considered 3 input for perceptron which weight of shape (2, 1) and (1,1) for bias too.\n",
    "3. I have used backpropagation to optimize the weights of the perceptron.\n",
    "4. Other parameters and the explanation of the how the model works has been expained through the following sections."
   ]
  },
  {
   "cell_type": "markdown",
   "metadata": {},
   "source": [
    "## 2 Preparing Data\n",
    "In this step we take care of data using following steps:\n",
    "1. Convert data to numpy array\n",
    "2. Create labels\n",
    "3. Shuffle data\n",
    "4. Split data into train and test"
   ]
  },
  {
   "cell_type": "markdown",
   "metadata": {},
   "source": [
    "### 2.A Convert Data to Numpy Array\n",
    "As I am going to use numpy matrix operations, I need to convert all of our data to numpy arrays."
   ]
  },
  {
   "cell_type": "code",
   "execution_count": 96,
   "metadata": {},
   "outputs": [],
   "source": [
    "data = []\n",
    "size = 4000\n",
    "data.extend(PN)\n",
    "data.extend(NP)\n",
    "data.extend(PP)\n",
    "data.extend(NN)\n",
    "x = np.zeros((size, 2))\n",
    "for idx, s in enumerate(data):\n",
    "    x[idx, 0] = s[0]\n",
    "    x[idx, 1] = s[1]"
   ]
  },
  {
   "cell_type": "markdown",
   "metadata": {},
   "source": [
    "### 2.B Create Labels\n",
    "Perceptron algorithm is a supervised learning task, so the data needs labels and I have assigned:\n",
    "1. 0 for Red\n",
    "2. 1 for Green\n",
    "\n",
    "Note any combination is possible."
   ]
  },
  {
   "cell_type": "code",
   "execution_count": 97,
   "metadata": {},
   "outputs": [],
   "source": [
    "y = np.ones((size, 1))\n",
    "y[size//2:,] = 0"
   ]
  },
  {
   "cell_type": "markdown",
   "metadata": {},
   "source": [
    "### 2.C Shuffle Data\n",
    "I have shuffled data because initial data was in order. In other words, first 2000 data had same label and latter half had same label so the network may memorize this order."
   ]
  },
  {
   "cell_type": "code",
   "execution_count": 98,
   "metadata": {},
   "outputs": [],
   "source": [
    "perm = np.random.permutation(size)\n",
    "x = x[perm]\n",
    "y = y[perm]"
   ]
  },
  {
   "cell_type": "markdown",
   "metadata": {},
   "source": [
    "## 2.D Split Into Train and Test\n",
    "For validation purposes, I splitted data into train and test set to have more reliable accuracy."
   ]
  },
  {
   "cell_type": "code",
   "execution_count": 99,
   "metadata": {},
   "outputs": [],
   "source": [
    "train_test_ratio = 0.9\n",
    "x_train = x[0:int(train_test_ratio*size)]\n",
    "y_train = y[0:int(train_test_ratio*size)]\n",
    "x_test = x[int(train_test_ratio*size):]\n",
    "y_test = y[int(train_test_ratio*size):]"
   ]
  },
  {
   "cell_type": "markdown",
   "metadata": {},
   "source": [
    "## 3 Build Neural Network\n",
    "1. Initializing weights randomly using normal distribution\n",
    "    1. This Step is very important and till now between different ways of weight initialization like Quasi random etc, normal random has had better results. I have also scaled down around 0.01 as it has been used widely in practice.\n",
    "    2. Initializing weights using any number is possible but it would be much more faster if we choose small values without zero weights because zero weights just stop learning!\n",
    "2. Activation function\n",
    "    1. This functions return the defined function's value regarding current weights and input values to the functions.\n",
    "    2. I have defined two most known functions, `sigmoid` and `tanh`.\n",
    "    3. Again, any sequence of activation functions is possible but it is convention to use `tanh` in hidden layers and `sigmoid` at the end of network, so I used same convetion.\n",
    "3. Feed Foward\n",
    "    1. Feedforward just multiplies input data and weights and pass it to activation function.\n",
    "    2. Step 1 will be applied to all layers which means first, input and hidden layers' weights are engaged, then output of hidden layers and weights of hidden layers to final neuron.\n",
    "    2. The result is network's prediction regarding given input\n",
    "4. Backpropagation\n",
    "    1. The main difference between a single perceptron and MLP is this step. Backpropagation enable us to transfer error from last layer(our prediction) to any of prior layers and that is why we can use multilayer perceptron.\n",
    "    2. The intuitive explanation will be as follow:\n",
    "        1. First we obtain difference between prediction and true labels\n",
    "        2. Then we calculate how much hidden layer's activation contributed to this error.\n",
    "        3. After that we do same definiton (actually obtained through taking derivatives) for other layers till to input weights.\n",
    "5. Update\n",
    "    1. In this step we update weights using gradient descent rule which is as follow: `w = w - alpha*dw` where `w: weights`, `alpha: learning_rate` and `dw: derivative of w`.\n",
    "    2. This rule also applies on `bias` variable too. `bias` can be considered as a single weight with input value `1` permanently, so I omited separate explanation for it.\n",
    "6. Cost\n",
    "    1. I omit explanation of the cost function as it was not part of assignment and I have just implemented it to make sure my implementation is correct and gradients are working properly.\n",
    "    2. I used cross-entopy loss\n",
    "6. Training\n",
    "    1. Feedforward step has been explained in the previous sections.\n",
    "    2. Backpropagation step has been explained in the previous sections.\n",
    "    3. Updating parameters step has been explained in the previous sections.\n",
    "    4. Reporting cost is optional.\n",
    "5. Testing\n",
    "    1. Testing step is only forward pass after training weights\n",
    "    2. I have not used thresholding in this step to enable us have a look at the values' intensities.\n",
    "6. Score\n",
    "    1. Calculating score is just dividing number of correct predictions by number of tests.\n",
    "    2. As the activation function in the last layer is `sigmoid`, we need a `threshold system` to convert `(0, 1)` output of `sigmoid` to `{0, 1}` and `0.5` will do this for us."
   ]
  },
  {
   "cell_type": "code",
   "execution_count": 126,
   "metadata": {},
   "outputs": [],
   "source": [
    "class MLP:\n",
    "    def __init__(self, num_features, hidden_size = 2, learning_rate = 0.001):\n",
    "        \"\"\"\n",
    "        Builds a MLP\n",
    "        \n",
    "        :param num_features: Number of input features\n",
    "        :param learning_rate: eta or learning rate as a coefficient for weight updating\n",
    "        :param hidden_size: Number of neurons in hidden layer\n",
    "        :return: A object\n",
    "        \"\"\"\n",
    "        \n",
    "        self.w1 = np.random.randn(hidden_size, num_features) * 0.01  # weights of input to hidden layer\n",
    "        self.b1 = np.ones((hidden_size, 1))  # bias of hidden layer\n",
    "        self.w2 = np.random.randn(1, hidden_size) * 0.01  # weights of hidden layer to output\n",
    "        self.b2 = np.ones((1, 1))  # bias of output layer\n",
    "        \n",
    "        self.hidden_size = hidden_size\n",
    "        self.learning_rate = learning_rate\n",
    "        self.num_features = num_features\n",
    "    \n",
    "    def _sigmoid(self, x):\n",
    "        \"\"\"\n",
    "        Applies sigmoid function on data\n",
    "        \n",
    "        :param x: numpy ndarray\n",
    "        :return: numpy ndarray\n",
    "        \"\"\"\n",
    "        return 1 / (1 + np.exp(-x))\n",
    "    \n",
    "    def _tanh(self, x):\n",
    "        \"\"\"\n",
    "        Applies Tan Hyperbolic function on data\n",
    "        \n",
    "        :param x: numpy ndarray\n",
    "        :return: numpy ndarray\n",
    "        \"\"\"\n",
    "        return np.tanh(x)\n",
    "            \n",
    "    def forward(self, x):\n",
    "        \"\"\"\n",
    "        Applies feed forward logic regarding predefined activation function\n",
    "        \n",
    "        :param x: numpy ndarray of input data\n",
    "        :return: a tuple of (input of activation function of hidden layer,\n",
    "                            output of activation function of hidden layer,\n",
    "                            input of activation function of output layer,\n",
    "                            output of activation function of output layer)\n",
    "        \n",
    "        \"\"\"\n",
    "        z1 = np.dot(self.w1, x) + self.b1\n",
    "        a1 = self._tanh(z1)\n",
    "        z2 = np.dot(self.w2, a1) + self.b2\n",
    "        a2 = self._sigmoid(z2)\n",
    "        return z1, a1, z2, a2\n",
    "        \n",
    "    def backpropagation(self, x, y, z1, a1, z2, a2):\n",
    "        \"\"\"\n",
    "        Applies backpropagation algorithm on network\n",
    "        \n",
    "        :param x: numpy ndarray of input data\n",
    "        :param y: numpy ndarray of input labels\n",
    "        :param z1: input of activation function of hidden layer\n",
    "        :param a1: output of activation function of hidden layer\n",
    "        :param z2: input of activation function of output layer\n",
    "        :param a2: output of activation function of output layer\n",
    "        :return: A tuple of (delta_w1, delta_b1, delta_w2, delta_b2)\n",
    "        \"\"\"\n",
    "        m = x.shape[1]\n",
    "        dz2 = a2 - y\n",
    "        dw2 = np.dot(dz2, a1.T) / m\n",
    "        db2 = np.sum(dz2, axis=1, keepdims=True) / m\n",
    "        dz1 = np.multiply(np.dot(self.w2.T, dz2), (1-np.power(a1, 2)))\n",
    "        dw1 = np.dot(dz1, x.T) / m\n",
    "        db1 = np.sum(dz1, axis=1, keepdims=True) / m\n",
    "        return dw1, db1, dw2, db2\n",
    "    \n",
    "    def update(self, dw1, db1, dw2, db2):\n",
    "        \"\"\"\n",
    "        Updates parameters using optained gradient changes.\n",
    "        \n",
    "        :param dw1: Amount of change in w1\n",
    "        :param db1: Amount of change in b1\n",
    "        :param dw2: Amount of change in w2\n",
    "        :param db2: Amount of change in b2\n",
    "        :return: None\n",
    "        \"\"\"\n",
    "        self.w1 = self.w1 - self.learning_rate*dw1\n",
    "        self.b1 = self.b1 - self.learning_rate*db1\n",
    "        self.w2 = self.w2 - self.learning_rate*dw2\n",
    "        self.b2 = self.b2 - self.learning_rate*db2\n",
    "        \n",
    "    def compute_cost(self, a2, y):\n",
    "        \"\"\"\n",
    "        Calculates cross-entropy loss\n",
    "        \n",
    "        :param a2: output of final layer\n",
    "        :param y: true labels of input data\n",
    "        \n",
    "        :return: a float value (less better!)\n",
    "        \"\"\"\n",
    "        logprobs = np.multiply(y, np.log(a2))+ np.multiply((1-y), (np.log(1-a2)))\n",
    "        cost = -np.sum(logprobs)/y.shape[1]\n",
    "        cost = np.squeeze(cost)\n",
    "        return cost\n",
    "    \n",
    "    def train(self, x, y, epochs, print_cost=True):\n",
    "        \"\"\"\n",
    "        Applies training procedure\n",
    "        \n",
    "        :param x: numpy ndarray of input features\n",
    "        :param y: numpy ndarray of input labels\n",
    "        :param epochs: Number of epochs to be trained\n",
    "        :print_cost: Whether or not print cost value (debugging purposes) every 1000 epochs\n",
    "        :return: None\n",
    "        \"\"\"\n",
    "        for e in range(epochs):\n",
    "            z1, a1, z2, a2 = self.forward(x)\n",
    "            cost = self.compute_cost(a2, y)\n",
    "            dw1, db1, dw2, db2 = self.backpropagation(x, y, z1, a1, z2, a2)\n",
    "            self.update(dw1, db1, dw2, db2)\n",
    "            if print_cost and e % 1000 == 0:\n",
    "                print (\"Cost after iteration %i: %f\" %(e, cost))\n",
    "    \n",
    "    def test(self, x):\n",
    "        \"\"\"\n",
    "        Tests network using trained weights obtained from `train` method.\n",
    "        Note: Mapping is not happening here, if you want to map, use 0.5 as threshold for sigmoid\n",
    "        \n",
    "        :param x: numpy ndarray of input features\n",
    "        :return: numpy ndarray of predictions\n",
    "        \"\"\"\n",
    "        _, _, _, preds = self.forward(x)\n",
    "        return preds\n",
    "    \n",
    "    def score(self, x, y):\n",
    "        return np.count_nonzero((self.test(x)>=0.5)*1 == y) *100/ x.shape[1]"
   ]
  },
  {
   "cell_type": "markdown",
   "metadata": {},
   "source": [
    "## 4 Training and Evaluation"
   ]
  },
  {
   "cell_type": "code",
   "execution_count": 136,
   "metadata": {},
   "outputs": [
    {
     "name": "stdout",
     "output_type": "stream",
     "text": [
      "Cost after iteration 0: 0.811356\n",
      "Cost after iteration 1000: 0.661713\n",
      "Cost after iteration 2000: 0.561364\n",
      "Cost after iteration 3000: 0.493442\n",
      "Cost after iteration 4000: 0.444247\n",
      "Cost after iteration 5000: 0.406091\n",
      "Cost after iteration 6000: 0.374814\n",
      "Cost after iteration 7000: 0.348163\n",
      "Cost after iteration 8000: 0.324874\n",
      "Cost after iteration 9000: 0.304196\n",
      "Cost after iteration 10000: 0.285649\n",
      "Cost after iteration 11000: 0.268904\n",
      "Cost after iteration 12000: 0.253713\n",
      "Cost after iteration 13000: 0.239883\n",
      "Cost after iteration 14000: 0.227255\n"
     ]
    },
    {
     "data": {
      "text/plain": [
       "100.0"
      ]
     },
     "execution_count": 136,
     "metadata": {},
     "output_type": "execute_result"
    }
   ],
   "source": [
    "x_train_mlp = x_train.transpose()\n",
    "y_train_mlp = y_train.transpose()\n",
    "mlp = MLP(num_features=2, hidden_size=2)\n",
    "mlp.train(x_train_mlp, y_train_mlp, epochs=15000)\n",
    "pred = mlp.test(x_test.T)\n",
    "mlp.score(x_test.T, y_test.T)"
   ]
  },
  {
   "cell_type": "markdown",
   "metadata": {},
   "source": [
    "### Note\n",
    "1. Our dataset enabled us to have 100 accuracy using only two neurons.\n",
    "2. If we add about %10 noise to data, our accuracy will be approximately around %80 because we have only two lines with overlapping dat.\n",
    "3. The solution is using 4 neurons in hidden layer to enable us having a almost seprable data.\n",
    "4. The last note is that 2-neuron model takes much more time (epochs) to train rather than 3-neuron or 4-neuron model as I have made sure this result using Google Tensorflow's Playground."
   ]
  }
 ],
 "metadata": {
  "kernelspec": {
   "display_name": "Python 3",
   "language": "python",
   "name": "python3"
  },
  "language_info": {
   "codemirror_mode": {
    "name": "ipython",
    "version": 3
   },
   "file_extension": ".py",
   "mimetype": "text/x-python",
   "name": "python",
   "nbconvert_exporter": "python",
   "pygments_lexer": "ipython3",
   "version": "3.6.6"
  }
 },
 "nbformat": 4,
 "nbformat_minor": 4
}
