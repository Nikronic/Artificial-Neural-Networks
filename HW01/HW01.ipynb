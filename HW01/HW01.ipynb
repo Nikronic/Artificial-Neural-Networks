{
 "cells": [
  {
   "cell_type": "markdown",
   "metadata": {},
   "source": [
    "# Perceptron With Hebb Rule For Linear Data\n",
    "\n",
    "This post consists of:\n",
    "0. Generating Synthetic Data\n",
    "1. Network Structure\n",
    "2. Preparing Data\n",
    "    1. Convert Data to Numpy Array\n",
    "    2. Create Labels\n",
    "    3. Shuffle Data\n",
    "    4. Split Into Train and Test\n",
    "3. Build Perceptron\n",
    "4. Training and Evaluation\n",
    "    1. Sigmoid\n",
    "    2. Tanh\n",
    "5. Visualization"
   ]
  },
  {
   "cell_type": "markdown",
   "metadata": {},
   "source": [
    "## 0 Generating Synthetic Data\n",
    "In this section we just generate 200 randomly sampled data which are **linearly** separable."
   ]
  },
  {
   "cell_type": "code",
   "execution_count": 2,
   "metadata": {},
   "outputs": [
    {
     "data": {
      "image/png": "[encoded data removed]",
      "text/plain": [
       "<Figure size 432x288 with 1 Axes>"
      ]
     },
     "metadata": {},
     "output_type": "display_data"
    }
   ],
   "source": [
    "import numpy as np\n",
    "######################\n",
    "# Create random data\n",
    "#####################\n",
    "random_positive = np.random.normal(100,45,100)\n",
    "random_negative = np.random.normal(-100,45,100)\n",
    "N=[(x,y) for x,y in zip(random_positive,random_negative)] \n",
    "P=[(x,y) for x,y in zip(random_negative,random_positive)]\n",
    "########################\n",
    "# Data Visualization\n",
    "########################\n",
    "import matplotlib.pyplot as plt\n",
    "plt.plot([x for x,y in N], [y for x,y in N], 'ro', label='N')\n",
    "plt.plot([x for x,y in P], [y for x,y in P], 'go', label='P')\n",
    "\n",
    "plt.title('synthetic linearly separable data')\n",
    "plt.xlabel('x')\n",
    "plt.ylabel('y')\n",
    "plt.legend(loc='lower right')\n",
    "\n",
    "plt.show()"
   ]
  },
  {
   "cell_type": "markdown",
   "metadata": {},
   "source": [
    "## 1 Network Structure\n",
    "1. I have chosen a singple perceptron to handle this classification and the reason is that a single perceptron can approximate any linear function no matter the dimensionality of input data.\n",
    "2. The number of features here are 2 so the I have considered 2 input for perceptron or weight of shape (2, 1).\n",
    "3. I have used gradient descent to optimize the weights of the perceptron.\n",
    "4. Other parameters and the explanation of the how the model works has been expained through the following sections."
   ]
  },
  {
   "cell_type": "markdown",
   "metadata": {},
   "source": [
    "## 2 Preparing Data\n",
    "In this step we take care of data using following steps:\n",
    "1. Convert data to numpy array\n",
    "2. Create labels\n",
    "3. Shuffle data\n",
    "4. Split data into train and test"
   ]
  },
  {
   "cell_type": "markdown",
   "metadata": {},
   "source": [
    "### 2.A Convert Data to Numpy Array\n",
    "As I am going to use numpy matrix operations, I need to convert all of our data to numpy arrays."
   ]
  },
  {
   "cell_type": "code",
   "execution_count": 3,
   "metadata": {},
   "outputs": [],
   "source": [
    "data= []\n",
    "size = 200\n",
    "data.extend(N)\n",
    "data.extend(P)\n",
    "x = np.zeros((size, 2))\n",
    "for idx, s in enumerate(data):\n",
    "    x[idx, 0] = s[0]\n",
    "    x[idx, 1] = s[1]"
   ]
  },
  {
   "cell_type": "markdown",
   "metadata": {},
   "source": [
    "### 2.B Create Labels\n",
    "Perceptron algorithm is a supervised learning task, so the data needs labels and I have assigned:\n",
    "1. 0 for Red\n",
    "2. 1 for Green\n",
    "\n",
    "Note any combination is possible."
   ]
  },
  {
   "cell_type": "code",
   "execution_count": 4,
   "metadata": {},
   "outputs": [],
   "source": [
    "y = np.zeros((size, 1))\n",
    "y[size//2:,] = 1"
   ]
  },
  {
   "cell_type": "markdown",
   "metadata": {},
   "source": [
    "### 2.C Shuffle Data\n",
    "I have shuffled data because initial data was in order. In other words, first 100 data had same label and latter half had same label so the network may memorize this order."
   ]
  },
  {
   "cell_type": "code",
   "execution_count": 5,
   "metadata": {},
   "outputs": [],
   "source": [
    "perm = np.random.permutation(size)\n",
    "x = x[perm]\n",
    "y = y[perm]"
   ]
  },
  {
   "cell_type": "markdown",
   "metadata": {},
   "source": [
    "## 2.D Split Into Train and Test\n",
    "For validation purposes, I splitted data into train and test set to have more reliable accuracy."
   ]
  },
  {
   "cell_type": "code",
   "execution_count": 6,
   "metadata": {},
   "outputs": [],
   "source": [
    "train_test_ratio = 0.9\n",
    "x_train = x[0:int(train_test_ratio*size)]\n",
    "y_train = y[0:int(train_test_ratio*size)]\n",
    "x_test = x[int(train_test_ratio*size):]\n",
    "y_test = y[int(train_test_ratio*size):]"
   ]
  },
  {
   "cell_type": "markdown",
   "metadata": {},
   "source": [
    "## 3 Build Perceptron\n",
    "1. Initializing weights randomly using normal distribution\n",
    "    1. This Step is very important and till now between different ways of weight initialization like Quasi random etc, normal random has had better results.\n",
    "    2. Initializing weights using any number is possible but it would be much more faster if we choose small values without zero weights because zero weights just stop learning!\n",
    "2. Activation function\n",
    "    1. This functions return the defined function's value regarding current weights and input values to the functions.\n",
    "    2. I have defined two most known functions, `sigmoid` and `tanh`.\n",
    "    3. I prefer using `tanh` as it maps values between `[0, 1]` which prevents biasing in next iterations.\n",
    "3. Feed Foward\n",
    "    1. Feedforward just multiplies input data and weights and pass it to activation function.\n",
    "    2. The result is networks prediction regarding given input\n",
    "4. Training\n",
    "    1. Feedforward step has been explained in the previous sections.\n",
    "    2. We calculate error as the difference between predictions and desired lables.\n",
    "    3. Now we have the error, the only thing we need to do is to to multiply input by error to effect the error as we do the same in the hyposis function (forward without activation).\n",
    "5. Testing\n",
    "    1. Testing step is only forward pass after training weights\n",
    "6. Score\n",
    "    1. Calculating score is just dividing number of correct predictions by number of tests."
   ]
  },
  {
   "cell_type": "code",
   "execution_count": 12,
   "metadata": {},
   "outputs": [],
   "source": [
    "class Perceptron:\n",
    "    def __init__(self, num_features, learning_rate = 0.5, weights = None, activation='sigmoid', threshold=0.2):\n",
    "        \"\"\"\n",
    "        Defines a Perceptron structure\n",
    "        \n",
    "        :param num_features: Number of input features\n",
    "        :param learning_rate: eta or learning rate as a coefficient for weight updating\n",
    "        :param weights: Use pretrained weights to omit training phase\n",
    "        :param activation: Can be `str` or `callable`. If `str` {`sigmoid` or 'tanh'} should be chosen, else, \n",
    "        callable function will work as activation function. (no validation)\n",
    "        :param threshold: Threshold used to convert the output of activation function to {0, 1} (or desired binary values)\n",
    "        :return: A object\n",
    "        \"\"\"\n",
    "        \n",
    "        if weights is None:\n",
    "            self.weights = np.random.randn(num_features, 1)\n",
    "        else:\n",
    "            self.weights = weights\n",
    "        self.activation = activation\n",
    "        self.learning_rate = learning_rate\n",
    "        self.num_features = num_features\n",
    "        self.threshold = threshold\n",
    "    \n",
    "    def _sigmoid(self, x):\n",
    "        \"\"\"\n",
    "        Applies sigmoid function on data\n",
    "        \n",
    "        :param x: numpy ndarray\n",
    "        :return: numpy ndarray\n",
    "        \"\"\"\n",
    "        return 1 / (1 + np.exp(-x))\n",
    "    \n",
    "    def activation_func(self, x):\n",
    "        \"\"\"\n",
    "        Applies predefined activation functions\n",
    "        \n",
    "        :param x: numpy ndarray\n",
    "        :return: numpy ndarray\n",
    "        \"\"\"\n",
    "        if self.activation == 'sigmoid':\n",
    "            return self._sigmoid(x)\n",
    "        elif self.activation == 'tanh':\n",
    "            return np.tanh(x)\n",
    "        else:\n",
    "            raise Exception('Activation has not defined!')\n",
    "            \n",
    "    def forward(self, x):\n",
    "        \"\"\"\n",
    "        Applies feed forward logic regarding predefined activation function or callable\n",
    "        \n",
    "        :param x: numpy ndarray\n",
    "        :return: numpy ndarray\n",
    "        \"\"\"\n",
    "        if type(self.activation) == str:\n",
    "            return self.activation_func(np.dot(x, self.weights))\n",
    "        else:\n",
    "            return self.activation(np.dot(x, self.weights))\n",
    "    \n",
    "    def train(self, x, y, epochs):\n",
    "        \"\"\"\n",
    "        Applies training procedure\n",
    "        \n",
    "        :param x: numpy ndarray of input features\n",
    "        :param y: numpy ndarray of input labels\n",
    "        :param epochs: Number of epochs to be trained\n",
    "        :return: None\n",
    "        \"\"\"\n",
    "        for e in range(epochs):\n",
    "            predictions = self.forward(x)\n",
    "            error = predictions - y\n",
    "            self.weights -= self.learning_rate * np.dot(x.T, (error))\n",
    "    \n",
    "    def test(self, x):\n",
    "        \"\"\"\n",
    "        Tests network using trained weights obtained from `train` method.\n",
    "        Maps output of activation functions to desired binary class using given threshold\n",
    "        \n",
    "        :param x: numpy ndarray of input features\n",
    "        :return: numpy ndarray of predictions\n",
    "        \"\"\"\n",
    "        preds = self.forward(x)\n",
    "        preds[preds < self.threshold] = 0\n",
    "        preds[preds > 1-self.threshold] = 1\n",
    "        return preds\n",
    "    \n",
    "    def score(self, x, y):\n",
    "        \"\"\"\n",
    "        Calculates the accuracy of model\n",
    "        \n",
    "        :param x: numpy ndarray of input features\n",
    "        :param y: numpy ndarray of input labels\n",
    "        :return: A float value in range of (0, 100)\n",
    "        \"\"\"\n",
    "        return np.count_nonzero(self.test(x) == y) *100/ len(x)"
   ]
  },
  {
   "cell_type": "markdown",
   "metadata": {},
   "source": [
    "## 4 Training and Evaluation\n",
    "1. Sigmoid\n",
    "2. Tanh"
   ]
  },
  {
   "cell_type": "markdown",
   "metadata": {},
   "source": [
    "### 4.A Sigmoid\n",
    "Using sigmoid as the activation function of the perceptron."
   ]
  },
  {
   "cell_type": "code",
   "execution_count": 13,
   "metadata": {},
   "outputs": [
    {
     "data": {
      "text/plain": [
       "100.0"
      ]
     },
     "execution_count": 13,
     "metadata": {},
     "output_type": "execute_result"
    }
   ],
   "source": [
    "perceptron = Perceptron(num_features=2, activation='sigmoid')\n",
    "perceptron.train(x_train, y_train, 1000)\n",
    "pred = perceptron.test(x_test)\n",
    "perceptron.score(x_test, y_test)"
   ]
  },
  {
   "cell_type": "markdown",
   "metadata": {},
   "source": [
    "### 4.B Tanh\n",
    "Using tanh as the activation function of the perceptron."
   ]
  },
  {
   "cell_type": "code",
   "execution_count": 14,
   "metadata": {},
   "outputs": [
    {
     "data": {
      "text/plain": [
       "100.0"
      ]
     },
     "execution_count": 14,
     "metadata": {},
     "output_type": "execute_result"
    }
   ],
   "source": [
    "perceptron = Perceptron(num_features=2, activation='tanh')\n",
    "perceptron.train(x_train, y_train, 1000)\n",
    "pred = perceptron.forward(x_test)\n",
    "perceptron.score(x_test, y_test)"
   ]
  },
  {
   "cell_type": "markdown",
   "metadata": {},
   "source": [
    "## 5 Visualization"
   ]
  },
  {
   "cell_type": "code",
   "execution_count": 15,
   "metadata": {},
   "outputs": [
    {
     "data": {
      "image/png": "[encoded data removed]",
      "text/plain": [
       "<Figure size 432x288 with 1 Axes>"
      ]
     },
     "metadata": {},
     "output_type": "display_data"
    }
   ],
   "source": [
    "plt.plot([x for x,y in N], [y for x,y in N], 'ro', label='N')\n",
    "plt.plot([x for x,y in P], [y for x,y in P], 'go', label='P')\n",
    "\n",
    "z = np.linspace(-200, 200, 200).reshape(-1,1)\n",
    "plt.plot(z, np.dot(z, perceptron.weights.T)[:,1])\n",
    "\n",
    "plt.title('synthetic linearly separable data')\n",
    "plt.xlabel('x')\n",
    "plt.ylabel('y')\n",
    "plt.legend(loc='lower right')\n",
    "\n",
    "plt.show()"
   ]
  }
 ],
 "metadata": {
  "kernelspec": {
   "display_name": "Python 3",
   "language": "python",
   "name": "python3"
  },
  "language_info": {
   "codemirror_mode": {
    "name": "ipython",
    "version": 3
   },
   "file_extension": ".py",
   "mimetype": "text/x-python",
   "name": "python",
   "nbconvert_exporter": "python",
   "pygments_lexer": "ipython3",
   "version": "3.6.6"
  }
 },
 "nbformat": 4,
 "nbformat_minor": 4
}
