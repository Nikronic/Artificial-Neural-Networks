{
 "cells": [
  {
   "cell_type": "markdown",
   "metadata": {},
   "source": [
    "# Kohonen Self Organized Maps For Learning MNIST\n",
    "This post consists of:\n",
    "\n",
    "1. Kohonen Train and Test\n",
    "    1. Libraries\n",
    "    2. Data\n",
    "    3. Kohonen Implementation\n",
    "    4. Experiments\n",
    "        1. 30x30\n",
    "        2. 10x10\n",
    "        3. 5x5\n",
    "        3. 10x1\n",
    "        4. 100x1\n",
    "2. Answer These questions\n",
    "    1. What is your approach for calculating accuracy?\n",
    "    2. What is best model for this task?\n",
    "    3. Do we have same number of neurons for each cluster?"
   ]
  },
  {
   "cell_type": "markdown",
   "metadata": {},
   "source": [
    "### 1 Kohonen Train and Test\n",
    "1. Libraries\n",
    "2. Data\n",
    "3. Kohonen Implementation\n",
    "4. Experiments\n",
    "    1. 30x30\n",
    "    2. 10x10\n",
    "    3. 5x5\n",
    "    3. 10x1\n",
    "    4. 100x1"
   ]
  },
  {
   "cell_type": "markdown",
   "metadata": {},
   "source": [
    "#### 1.1 Libraries"
   ]
  },
  {
   "cell_type": "code",
   "execution_count": null,
   "metadata": {
    "colab": {},
    "colab_type": "code",
    "id": "JiN3Q6tgJcnc"
   },
   "outputs": [],
   "source": [
    "import matplotlib.pylab as plt\n",
    "import numpy as np\n",
    "import gzip\n",
    "from sklearn.model_selection import train_test_split\n",
    "from sklearn.preprocessing import scale\n",
    "import cv2\n",
    "\n",
    "%matplotlib inline"
   ]
  },
  {
   "cell_type": "markdown",
   "metadata": {},
   "source": [
    "#### 1.2 Data"
   ]
  },
  {
   "cell_type": "code",
   "execution_count": null,
   "metadata": {
    "colab": {
     "base_uri": "https://localhost:8080/",
     "height": 105
    },
    "colab_type": "code",
    "id": "2Dc9C9i6Jcnl",
    "outputId": "1c69a8e7-c5ec-4ce7-ace7-5caa4a48e746"
   },
   "outputs": [
    {
     "name": "stderr",
     "output_type": "stream",
     "text": [
      "/usr/local/lib/python3.6/dist-packages/sklearn/utils/deprecation.py:85: DeprecationWarning: Function fetch_mldata is deprecated; fetch_mldata was deprecated in version 0.20 and will be removed in version 0.22. Please use fetch_openml.\n",
      "  warnings.warn(msg, category=DeprecationWarning)\n",
      "/usr/local/lib/python3.6/dist-packages/sklearn/utils/deprecation.py:85: DeprecationWarning: Function mldata_filename is deprecated; mldata_filename was deprecated in version 0.20 and will be removed in version 0.22. Please use fetch_openml.\n",
      "  warnings.warn(msg, category=DeprecationWarning)\n"
     ]
    }
   ],
   "source": [
    "from sklearn.datasets import fetch_mldata\n",
    "mnist = fetch_mldata('MNIST original', data_home='data')"
   ]
  },
  {
   "cell_type": "code",
   "execution_count": null,
   "metadata": {
    "colab": {},
    "colab_type": "code",
    "id": "9JygfwZ2Jcnv"
   },
   "outputs": [],
   "source": [
    "def split(x, y, normalize=True, resize=None)\n",
    "    if resize is not None:\n",
    "        data = np.empty((mnist.data.shape[0], resize))\n",
    "        for idx, im in enumerate(mnist.data):\n",
    "            data[idx] = cv2.resize(im.reshape(28, 28), resize, cv2.INTER_AREA).flatten()\n",
    "    if normalize:\n",
    "        data = scale(mnist.data)  # normalization\n",
    "    x_train, x_test, y_train, y_test = train_test_split(data, mnist.target, train_size=50000)\n",
    "    y_train = y_train.astype(np.uint8)\n",
    "    y_test = y_test.astype(np.uint8)\n",
    "    return x_train, y_train, x_test, y_test"
   ]
  },
  {
   "cell_type": "code",
   "execution_count": 213,
   "metadata": {
    "colab": {
     "base_uri": "https://localhost:8080/",
     "height": 282
    },
    "colab_type": "code",
    "id": "1f7Z1Ki_Jcn1",
    "outputId": "63f1e50f-84fd-4dfa-e1f2-3bc3a286eb29"
   },
   "outputs": [
    {
     "data": {
      "text/plain": [
       "<matplotlib.image.AxesImage at 0x7ff2bd91a630>"
      ]
     },
     "execution_count": 213,
     "metadata": {
      "tags": []
     },
     "output_type": "execute_result"
    },
    {
     "data": {
      "image/png": "[encoded data removed]",
      "text/plain": [
       "<Figure size 432x288 with 1 Axes>"
      ]
     },
     "metadata": {
      "tags": []
     },
     "output_type": "display_data"
    }
   ],
   "source": [
    "plt.imshow(mnist.data[0].reshape(28, 28), cmap='gray')\n",
    "print(y_train[0])"
   ]
  },
  {
   "cell_type": "code",
   "execution_count": 231,
   "metadata": {
    "colab": {
     "base_uri": "https://localhost:8080/",
     "height": 282
    },
    "colab_type": "code",
    "id": "6kQ3rJTAn8_s",
    "outputId": "0cb570d6-48c7-489b-a8e0-dfdcd13e5bf1"
   },
   "outputs": [
    {
     "data": {
      "text/plain": [
       "<matplotlib.image.AxesImage at 0x7ff2be03ca90>"
      ]
     },
     "execution_count": 231,
     "metadata": {
      "tags": []
     },
     "output_type": "execute_result"
    },
    {
     "data": {
      "image/png": "[encoded data removed]",
      "text/plain": [
       "<Figure size 432x288 with 1 Axes>"
      ]
     },
     "metadata": {
      "tags": []
     },
     "output_type": "display_data"
    }
   ],
   "source": [
    "def get_avg(x, y):\n",
    "    avgs = []\n",
    "    for i in range(10):\n",
    "        m = x[y==i].mean(axis=0)\n",
    "        avgs.append(m)\n",
    "    return avgs\n",
    "centroids = get_avg(mnist.data, mnist.target)\n",
    "plt.imshow(centroids[9].reshape(28,28), cmap='gray')"
   ]
  },
  {
   "cell_type": "markdown",
   "metadata": {
    "colab_type": "text",
    "id": "EszNnvFQbEwq"
   },
   "source": [
    "#### 1.3 Kohonen Implementation"
   ]
  },
  {
   "cell_type": "code",
   "execution_count": null,
   "metadata": {
    "colab": {},
    "colab_type": "code",
    "id": "Ok1igrtG3YHk"
   },
   "outputs": [],
   "source": [
    "class Kohonen:\n",
    "    # initialization\n",
    "    def __init__(self, m, n, model=None, net_dim=(30, 30), learning_rate=0.5, iterations=100, n_classes = 10):\n",
    "        if model is None:\n",
    "            model = np.random.random((net_dim[0], net_dim[1], m))*0.01\n",
    "        self.model = model\n",
    "        self.net_dim = net_dim\n",
    "        self.learning_rate = learning_rate\n",
    "        self.iterations = iterations\n",
    "        self.init_radius = np.average(np.array(net_dim)) / 2\n",
    "        self.m = m\n",
    "        self.n = n\n",
    "        self.n_classes = n_classes\n",
    "        self.time_constant = iterations / np.log(self.init_radius)\n",
    "        self.labels = np.zeros((self.model.shape[0], self.model.shape[1], self.n_classes))\n",
    "\n",
    "    # competition\n",
    "    def fittest_neuron(self, feature):\n",
    "        \"\"\"\n",
    "        Finds fittest neuron w.r.t. given input features x and model\n",
    "\n",
    "        :return: the neuron and its index in model.\n",
    "        \"\"\"\n",
    "        # calculate the distance between each neuron and the input using vectorized operation\n",
    "        distance = np.sqrt(np.sum((self.model - feature) ** 2, axis=2))\n",
    "        pos = np.unravel_index(np.argmin(distance, axis=None), distance.shape)\n",
    "        return (self.model[pos], pos)\n",
    "    \n",
    "    # Cooperation\n",
    "    def decay_radius(self, i):\n",
    "        return self.init_radius * np.exp(-i / self.time_constant)\n",
    "\n",
    "    def decay_learning_rate(self, i):\n",
    "        return self.learning_rate * np.exp(-i / self.iterations)\n",
    "\n",
    "    # gaussian neighboring\n",
    "    def h(self, distance, radius):\n",
    "        return np.exp(-distance / (2* (radius**2)))\n",
    "\n",
    "    # Adaption\n",
    "    def train(self, x_train):\n",
    "        zx = np.arange(0, self.net_dim[0], 1)\n",
    "        zy = np.arange(0, self.net_dim[1], 1)\n",
    "        zx, zy = np.meshgrid(zx,zy, indexing='ij')\n",
    "        mesh_init = np.array([zx, zy])\n",
    "\n",
    "        for i in range(self.iterations):\n",
    "            # sample = x_train[np.random.randint(0, n, 1)]\n",
    "            for feature in x_train:\n",
    "\n",
    "                # find the fittest\n",
    "                fittest, fittest_idx = self.fittest_neuron(feature)\n",
    "            \n",
    "                # decay the SOM parameters\n",
    "                r = self.decay_radius(i)\n",
    "                l = self.decay_learning_rate(i)\n",
    "            \n",
    "                # update weight vector\n",
    "                mesh_init[0] = mesh_init[0] - fittest_idx[0]\n",
    "                mesh_init[1] = mesh_init[1] - fittest_idx[1]\n",
    "                mesh = np.sqrt(np.sum(mesh_init ** 2, axis=0))\n",
    "                neighbor_mask = mesh < r\n",
    "                if len(neighbor_mask.flatten()) > 0:\n",
    "                    mesh[neighbor_mask] = self.h(mesh[neighbor_mask], r)\n",
    "                    self.model[neighbor_mask] = self.model[neighbor_mask] + l * np.multiply(mesh[neighbor_mask][:, np.newaxis], (feature - self.model)[neighbor_mask])   \n",
    "    \n",
    "    def error(self, x):\n",
    "        distances = np.empty((x.shape[0],))\n",
    "        for idx, feature in enumerate(x):\n",
    "            fittest, fittest_idx = self.fittest_neuron(feature)\n",
    "            distances[idx] = ((fittest - feature) ** 2).sum()\n",
    "        return distances.mean()\n",
    "\n",
    "    def label_neurons(self, x_train, y_train):\n",
    "        # majority vote on reiterating train data and labeling winner node\n",
    "        for idx, feature in enumerate(x_train):\n",
    "            distance = np.sqrt(np.sum((self.model - feature) ** 2, axis=2))\n",
    "            pos = np.unravel_index(np.argmin(distance, axis=None), distance.shape)\n",
    "            self.labels[pos[0], pos[1], y_train[idx]] += 1\n",
    "        self.labels = np.argmax(self.labels, axis=2)\n",
    "        return self.labels\n",
    "\n",
    "    def accuracy(self, x_test, y_test):\n",
    "        t = 0\n",
    "        for idx, feature in enumerate(x_test):\n",
    "            distance = np.sqrt(np.sum((self.model - feature) ** 2, axis=2))\n",
    "            pos = np.unravel_index(np.argmin(distance, axis=None), distance.shape)\n",
    "            if self.labels[pos[0], pos[1]] == y_test[idx]:\n",
    "                t += 1\n",
    "        return t / len(y_test)\n",
    "\n",
    "    def visualize_map(self, x_test, y_test):\n",
    "        wmap = {}\n",
    "        im = 0\n",
    "        for x, t in zip(x_test[:1000], y_test[:1000]):\n",
    "            distance = np.sqrt(np.sum((self.model - x) ** 2, axis=2))\n",
    "            pos = np.unravel_index(np.argmin(distance, axis=None), distance.shape)\n",
    "            wmap[pos] = im\n",
    "            plt.text(pos[0],  pos[1],  str(t), color=plt.cm.rainbow(t / 10.), fontdict={'weight': 'bold',  'size': 11})\n",
    "            im = im + 1\n",
    "        plt.axis([0, self.model.shape[0], 0,  self.model.shape[1]])\n",
    "        plt.show()"
   ]
  },
  {
   "cell_type": "markdown",
   "metadata": {},
   "source": [
    "#### 1.4 Experiments\n",
    "1. 30x30\n",
    "2. 10x10\n",
    "3. 5x5\n",
    "4. 10x1\n",
    "4. 100x1\n",
    "\n",
    "Note: all printed **accuracy** values has been optained on **test set**."
   ]
  },
  {
   "cell_type": "markdown",
   "metadata": {
    "colab_type": "text",
    "id": "wTaQCQn1B-CW"
   },
   "source": [
    "##### 1.4.1 30x30 Kohonen (Best model)"
   ]
  },
  {
   "cell_type": "code",
   "execution_count": 409,
   "metadata": {
    "colab": {
     "base_uri": "https://localhost:8080/",
     "height": 588
    },
    "colab_type": "code",
    "id": "Y1_4ZtSE7D5t",
    "outputId": "5bd761ba-ce1b-4f53-99e8-9a2f2faedceb"
   },
   "outputs": [
    {
     "data": {
      "image/png": "[encoded data removed]",
      "text/plain": [
       "<Figure size 432x288 with 1 Axes>"
      ]
     },
     "metadata": {
      "tags": []
     },
     "output_type": "display_data"
    },
    {
     "name": "stdout",
     "output_type": "stream",
     "text": [
      "accuracy 0.82505\n"
     ]
    },
    {
     "data": {
      "text/plain": [
       "(array([134.,  41., 130.,  93.,  90.,  84.,  96., 103.,  63.,  66.]),\n",
       " array([0. , 0.9, 1.8, 2.7, 3.6, 4.5, 5.4, 6.3, 7.2, 8.1, 9. ]),\n",
       " <a list of 10 Patch objects>)"
      ]
     },
     "execution_count": 409,
     "metadata": {
      "tags": []
     },
     "output_type": "execute_result"
    },
    {
     "data": {
      "image/png": "[encoded data removed]",
      "text/plain": [
       "<Figure size 432x288 with 1 Axes>"
      ]
     },
     "metadata": {
      "tags": []
     },
     "output_type": "display_data"
    }
   ],
   "source": [
    "n = x_train.shape[0]  # samples\n",
    "m = x_train.shape[1]  # features\n",
    "kohonen30x30 = Kohonen(m=m, n=n, net_dim=(30, 30))\n",
    "kohonen30x30.train(x_train)\n",
    "# I could not hold the ouput of iteration as I saved model using pickle and trained for more than 1000 iterations but final weights are saved as\n",
    "# it took more than 15 hours( I am not sure though)\n",
    "kohonen30x30.visualize_map(x_test, y_test)\n",
    "kohonen30x30.label_neurons(x_train, y_train)\n",
    "print('accuracy', kohonen30x30.accuracy(x_test, y_test))\n",
    "plt.hist(kohonen30x30.labels.flatten(), bins=10)"
   ]
  },
  {
   "cell_type": "markdown",
   "metadata": {
    "colab_type": "text",
    "id": "3KAMi_ZQCDYe"
   },
   "source": [
    "##### 1.4.2 10x10 Kohonen"
   ]
  },
  {
   "cell_type": "code",
   "execution_count": 411,
   "metadata": {
    "colab": {
     "base_uri": "https://localhost:8080/",
     "height": 585
    },
    "colab_type": "code",
    "id": "EJNeIVqSCGaI",
    "outputId": "0b4c5af6-6862-4fb2-ad5a-8d9f1f0f832f"
   },
   "outputs": [
    {
     "data": {
      "image/png": "[encoded data removed]",
      "text/plain": [
       "<Figure size 432x288 with 1 Axes>"
      ]
     },
     "metadata": {
      "tags": []
     },
     "output_type": "display_data"
    },
    {
     "name": "stdout",
     "output_type": "stream",
     "text": [
      "accuracy 0.6884\n"
     ]
    },
    {
     "data": {
      "text/plain": [
       "(array([11.,  4., 16.,  9.,  7., 11., 14., 12.,  9.,  7.]),\n",
       " array([0. , 0.9, 1.8, 2.7, 3.6, 4.5, 5.4, 6.3, 7.2, 8.1, 9. ]),\n",
       " <a list of 10 Patch objects>)"
      ]
     },
     "execution_count": 411,
     "metadata": {
      "tags": []
     },
     "output_type": "execute_result"
    },
    {
     "data": {
      "image/png": "[encoded data removed]",
      "text/plain": [
       "<Figure size 432x288 with 1 Axes>"
      ]
     },
     "metadata": {
      "tags": []
     },
     "output_type": "display_data"
    }
   ],
   "source": [
    "n = x_train.shape[0]  # samples\n",
    "m = x_train.shape[1]  # features\n",
    "kohonen10x10 = Kohonen(m=m, n=n, net_dim=(10, 10))\n",
    "kohonen10x10.train(x_train)\n",
    "kohonen10x10.visualize_map(x_test, y_test)\n",
    "kohonen10x10.label_neurons(x_train, y_train)\n",
    "print('accuracy',kohonen10x10.accuracy(x_test, y_test))\n",
    "plt.hist(kohonen10x10.labels.flatten(), bins=10)"
   ]
  },
  {
   "cell_type": "markdown",
   "metadata": {
    "colab_type": "text",
    "id": "-H5z1w3UC7ON"
   },
   "source": [
    "##### 1.4.3 5x5 Kohonen"
   ]
  },
  {
   "cell_type": "code",
   "execution_count": 414,
   "metadata": {
    "colab": {
     "base_uri": "https://localhost:8080/",
     "height": 585
    },
    "colab_type": "code",
    "id": "aUsX4EXMC95N",
    "outputId": "c0c90654-6211-477a-ccb6-81d162d65bd6"
   },
   "outputs": [
    {
     "data": {
      "image/png": "[encoded data removed]",
      "text/plain": [
       "<Figure size 432x288 with 1 Axes>"
      ]
     },
     "metadata": {
      "tags": []
     },
     "output_type": "display_data"
    },
    {
     "name": "stdout",
     "output_type": "stream",
     "text": [
      "accuracy 0.42635\n"
     ]
    },
    {
     "data": {
      "text/plain": [
       "(array([1., 1., 8., 3., 1., 1., 5., 3., 0., 2.]),\n",
       " array([0. , 0.9, 1.8, 2.7, 3.6, 4.5, 5.4, 6.3, 7.2, 8.1, 9. ]),\n",
       " <a list of 10 Patch objects>)"
      ]
     },
     "execution_count": 414,
     "metadata": {
      "tags": []
     },
     "output_type": "execute_result"
    },
    {
     "data": {
      "image/png": "[encoded data removed]",
      "text/plain": [
       "<Figure size 432x288 with 1 Axes>"
      ]
     },
     "metadata": {
      "tags": []
     },
     "output_type": "display_data"
    }
   ],
   "source": [
    "n = x_train.shape[0]  # samples\n",
    "m = x_train.shape[1]  # features\n",
    "kohonen5x5 = Kohonen(m=m, n=n, net_dim=(5, 5))\n",
    "kohonen5x5.train(x_train)\n",
    "kohonen5x5.visualize_map(x_test, y_test)\n",
    "kohonen5x5.label_neurons(x_train, y_train)\n",
    "print('accuracy',kohonen5x5.accuracy(x_test, y_test))\n",
    "plt.hist(kohonen5x5.labels.flatten(), bins=10)"
   ]
  },
  {
   "cell_type": "markdown",
   "metadata": {
    "colab_type": "text",
    "id": "VgxDrkSlGRrv"
   },
   "source": [
    "##### 1.4.4 10x1 Kohonen"
   ]
  },
  {
   "cell_type": "code",
   "execution_count": 417,
   "metadata": {
    "colab": {
     "base_uri": "https://localhost:8080/",
     "height": 585
    },
    "colab_type": "code",
    "id": "hK55jY1XGWb0",
    "outputId": "fe63ccc3-1b7a-4d2a-fda8-a37eecc8d684"
   },
   "outputs": [
    {
     "data": {
      "image/png": "[encoded data removed]",
      "text/plain": [
       "<Figure size 432x288 with 1 Axes>"
      ]
     },
     "metadata": {
      "tags": []
     },
     "output_type": "display_data"
    },
    {
     "name": "stdout",
     "output_type": "stream",
     "text": [
      "accuracy 0.16565\n"
     ]
    },
    {
     "data": {
      "text/plain": [
       "(array([1., 2., 1., 0., 0., 1., 2., 2., 0., 1.]),\n",
       " array([1. , 1.8, 2.6, 3.4, 4.2, 5. , 5.8, 6.6, 7.4, 8.2, 9. ]),\n",
       " <a list of 10 Patch objects>)"
      ]
     },
     "execution_count": 417,
     "metadata": {
      "tags": []
     },
     "output_type": "execute_result"
    },
    {
     "data": {
      "image/png": "[encoded data removed]",
      "text/plain": [
       "<Figure size 432x288 with 1 Axes>"
      ]
     },
     "metadata": {
      "tags": []
     },
     "output_type": "display_data"
    }
   ],
   "source": [
    "n = x_train.shape[0]  # samples\n",
    "m = x_train.shape[1]  # features\n",
    "kohonen10x1 = Kohonen(m=m, n=n, net_dim=(10, 1))\n",
    "kohonen10x1.train(x_train)\n",
    "kohonen10x1.visualize_map(x_test, y_test)\n",
    "kohonen10x1.label_neurons(x_train, y_train)\n",
    "print('accuracy',kohonen10x1.accuracy(x_test, y_test))\n",
    "plt.hist(kohonen10x1.labels.flatten(), bins=10)"
   ]
  },
  {
   "cell_type": "markdown",
   "metadata": {
    "colab_type": "text",
    "id": "VkQbsxCEI_En"
   },
   "source": [
    "##### 1.4.5 100x1 Kohonen"
   ]
  },
  {
   "cell_type": "code",
   "execution_count": 419,
   "metadata": {
    "colab": {
     "base_uri": "https://localhost:8080/",
     "height": 585
    },
    "colab_type": "code",
    "id": "k47zwEAKJBRj",
    "outputId": "b72bc0ef-328d-4690-aa2e-816898e9a7b5"
   },
   "outputs": [
    {
     "data": {
      "image/png": "[encoded data removed]",
      "text/plain": [
       "<Figure size 432x288 with 1 Axes>"
      ]
     },
     "metadata": {
      "tags": []
     },
     "output_type": "display_data"
    },
    {
     "name": "stdout",
     "output_type": "stream",
     "text": [
      "accuracy 0.70955\n"
     ]
    },
    {
     "data": {
      "text/plain": [
       "(array([12.,  2., 14., 13.,  7., 11., 11., 11., 10.,  9.]),\n",
       " array([0. , 0.9, 1.8, 2.7, 3.6, 4.5, 5.4, 6.3, 7.2, 8.1, 9. ]),\n",
       " <a list of 10 Patch objects>)"
      ]
     },
     "execution_count": 419,
     "metadata": {
      "tags": []
     },
     "output_type": "execute_result"
    },
    {
     "data": {
      "image/png": "[encoded data removed]",
      "text/plain": [
       "<Figure size 432x288 with 1 Axes>"
      ]
     },
     "metadata": {
      "tags": []
     },
     "output_type": "display_data"
    }
   ],
   "source": [
    "n = x_train.shape[0]  # samples\n",
    "m = x_train.shape[1]  # features\n",
    "kohonen100x1 = Kohonen(m=m, n=n, net_dim=(100, 1))\n",
    "kohonen100x1.train(x_train)\n",
    "kohonen100x1.visualize_map(x_test, y_test)\n",
    "kohonen100x1.label_neurons(x_train, y_train)\n",
    "print('accuracy',kohonen100x1.accuracy(x_test, y_test))\n",
    "plt.hist(kohonen100x1.labels.flatten(), bins=10)"
   ]
  },
  {
   "cell_type": "code",
   "execution_count": null,
   "metadata": {
    "colab": {},
    "colab_type": "code",
    "id": "IprsjvY49wp9"
   },
   "outputs": [],
   "source": [
    "import pickle\n",
    "pickle.dump((kohonen30x30), open('kohonen30x30_best.model', 'wb'))\n",
    "pickle.dump((kohonen10x10), open('kohonen10x10_best.model', 'wb'))"
   ]
  },
  {
   "cell_type": "markdown",
   "metadata": {},
   "source": [
    "### 2 Answer These questions\n",
    "1. What is your approach for calculating accuracy?\n",
    "2. What is best model for this task?\n",
    "3. Do we have same number of neurons for each cluster?"
   ]
  },
  {
   "cell_type": "markdown",
   "metadata": {},
   "source": [
    "#### 2.1 Accuracy Calculation\n",
    "\n",
    "The approach I have used has been proposed by Prof. Kohonen in his book called *Self-Organizing Maps-Springer-Verlag Berlin Heidelberg (2001) - page 314*. In this approach after converging using available data, we pass the data one more iteration through the network but this time we freeze the weights and just label each winner neuron with the label of given entry of our data. But I have extended it and used *majority vote* which means I have counted how many times each class for each neuron has been selected so we have a historgram of data that vote for each class in each neuron. Then I took max over this vector to label the neuron."
   ]
  },
  {
   "cell_type": "markdown",
   "metadata": {},
   "source": [
    "#### 2.2 Best Model Architecture\n",
    "There are two famous approach for deciding number of neurons for given dataset.\n",
    "\n",
    "1. `10 * number_of_classes`: This approach says we need about 10 neuron per class on average. We can see the result of this idea in *100x1* network which we have introduced 10 neurons per class in 1D manner. Achieved accuracy on test set is `0.71` which is good.\n",
    "\n",
    "2. `sqrt(5 * sqrt(len(dataset)))`: Second approach is based on the dataset size. in our case it outputs *33.3* which in 2D manner I have used *30x30* 2D Kohonen which gave `0.825` accuracy on test which is really good; Almost same result with a MLP with 1 hidden layer and 1024 hidden neurons for 300 epochs using gradient descent optimizer."
   ]
  },
  {
   "cell_type": "code",
   "execution_count": 340,
   "metadata": {
    "colab": {
     "base_uri": "https://localhost:8080/",
     "height": 34
    },
    "colab_type": "code",
    "id": "C0D-MJAfLYsB",
    "outputId": "a0e60034-a73f-4099-e752-a33822c19e2c"
   },
   "outputs": [
    {
     "data": {
      "text/plain": [
       "100"
      ]
     },
     "execution_count": 340,
     "metadata": {
      "tags": []
     },
     "output_type": "execute_result"
    }
   ],
   "source": [
    "n_classes = 10\n",
    "10*n_classes"
   ]
  },
  {
   "cell_type": "code",
   "execution_count": 339,
   "metadata": {
    "colab": {
     "base_uri": "https://localhost:8080/",
     "height": 34
    },
    "colab_type": "code",
    "id": "fPioJaCELTxZ",
    "outputId": "3afdcb75-5f55-41b7-ea41-4b8336f72d2a"
   },
   "outputs": [
    {
     "data": {
      "text/plain": [
       "33.437015248821105"
      ]
     },
     "execution_count": 339,
     "metadata": {
      "tags": []
     },
     "output_type": "execute_result"
    }
   ],
   "source": [
    "np.sqrt(5*np.sqrt(x_train.shape[0]))"
   ]
  },
  {
   "cell_type": "markdown",
   "metadata": {},
   "source": [
    "#### 2.3 Number of Neuron Regarding Clusters\n",
    "\n",
    "We can analyze this topic in below manners:\n",
    "\n",
    "1. The number of samples in each class is important which defnes the density of features in feature space, so more samples needs more candidates to be represented.\n",
    "\n",
    "2. Other factor is the distribution of the features of each class (cluster). For instance, consider gaussian distribution regarding different sigma values, narrower one can be expressed in a small area of kohonen map which means less number of neurons and vice versa.\n",
    "\n",
    "As an example, we can see in 30x30 and 100x1 models, `0` needed much more number of neurons in relation to `1` and the reason is that even though `1` has more samples (but not much, almost same with `0`), but the complexity of images of `1` sample are much less than `0`. We can approve this idea by observing the Kohonen map of 30x30 which `1` samples are in a small area while `0`s have 3 cluster  spread all over the map."
   ]
  },
  {
   "cell_type": "code",
   "execution_count": 338,
   "metadata": {
    "colab": {
     "base_uri": "https://localhost:8080/",
     "height": 187
    },
    "colab_type": "code",
    "id": "8kGCxxl2KdEV",
    "outputId": "ad179386-a504-47a9-9f1e-e8d693152ed4"
   },
   "outputs": [
    {
     "name": "stdout",
     "output_type": "stream",
     "text": [
      "class \"0\" => #6903 samples\n",
      "class \"1\" => #7877 samples\n",
      "class \"2\" => #6990 samples\n",
      "class \"3\" => #7141 samples\n",
      "class \"4\" => #6824 samples\n",
      "class \"5\" => #6313 samples\n",
      "class \"6\" => #6876 samples\n",
      "class \"7\" => #7293 samples\n",
      "class \"8\" => #6825 samples\n",
      "class \"9\" => #6958 samples\n"
     ]
    }
   ],
   "source": [
    "for i in range(10):\n",
    "    m = mnist.data[mnist.target==i].__len__()\n",
    "    print('class \"{}\" => #{} samples'.format(i, m))"
   ]
  }
 ],
 "metadata": {
  "accelerator": "GPU",
  "colab": {
   "collapsed_sections": [],
   "machine_shape": "hm",
   "name": "som.ipynb",
   "provenance": [],
   "toc_visible": true
  },
  "kernelspec": {
   "display_name": "Python 3",
   "language": "python",
   "name": "python3"
  },
  "language_info": {
   "codemirror_mode": {
    "name": "ipython",
    "version": 3
   },
   "file_extension": ".py",
   "mimetype": "text/x-python",
   "name": "python",
   "nbconvert_exporter": "python",
   "pygments_lexer": "ipython3",
   "version": "3.6.6"
  }
 },
 "nbformat": 4,
 "nbformat_minor": 4
}
