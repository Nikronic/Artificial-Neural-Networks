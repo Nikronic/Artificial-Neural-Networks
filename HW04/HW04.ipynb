{
 "cells": [
  {
   "cell_type": "markdown",
   "metadata": {},
   "source": [
    "## Training Tensorflow 1.x Model for MNIST\n",
    "This post consists of:\n",
    "\n",
    "1. Libraries\n",
    "2. Loading dataset\n",
    "3. Setting Hyperparameters\n",
    "4. Normalization\n",
    "5. Defining Network\n",
    "6. Training\n",
    "7. Model Config\n",
    "    1. Network architecture\n",
    "    2. Learning rate value"
   ]
  },
  {
   "cell_type": "markdown",
   "metadata": {
    "colab_type": "text",
    "id": "X_zvXMb0mPCp"
   },
   "source": [
    "### 1.1 Import Libraries"
   ]
  },
  {
   "cell_type": "code",
   "execution_count": null,
   "metadata": {
    "colab": {},
    "colab_type": "code",
    "id": "vf_yfwGekFvG"
   },
   "outputs": [],
   "source": [
    "%tensorflow_version 1.x\n",
    "import tensorflow as tf\n",
    "import matplotlib.pyplot as plt\n",
    "import numpy as np\n",
    "\n",
    "%matplotlib inline"
   ]
  },
  {
   "cell_type": "markdown",
   "metadata": {
    "colab_type": "text",
    "id": "IK_qGezomW3q"
   },
   "source": [
    "### 1.2 Load MNIST Dataset"
   ]
  },
  {
   "cell_type": "code",
   "execution_count": 2,
   "metadata": {
    "colab": {
     "base_uri": "https://localhost:8080/",
     "height": 623
    },
    "colab_type": "code",
    "id": "Wh833-SCl-12",
    "outputId": "a8ae264d-6ad7-48f7-f14f-c997e4a70303"
   },
   "outputs": [
    {
     "name": "stdout",
     "output_type": "stream",
     "text": [
      "Downloading data from https://storage.googleapis.com/tensorflow/tf-keras-datasets/mnist.npz\n",
      "11493376/11490434 [==============================] - 0s 0us/step\n"
     ]
    },
    {
     "data": {
      "image/png": "[encoded data removed]",
      "text/plain": [
       "<Figure size 720x720 with 16 Axes>"
      ]
     },
     "metadata": {
      "tags": []
     },
     "output_type": "display_data"
    }
   ],
   "source": [
    "(x_train, y_train), (x_test, y_test) = tf.keras.datasets.mnist.load_data()\n",
    "class_names = ['zero', 'one', 'two', 'three', 'four', 'five',\n",
    "               'six', 'seven', 'eight', 'nine']\n",
    "\n",
    "plt.figure(figsize=(10,10))\n",
    "for i in range(16):\n",
    "    plt.subplot(4, 4, i+1)\n",
    "    plt.xticks([])\n",
    "    plt.yticks([])\n",
    "    plt.imshow(x_train[i], cmap=plt.cm.binary)\n",
    "    plt.xlabel(class_names[y_train[i]])\n",
    "plt.show()"
   ]
  },
  {
   "cell_type": "markdown",
   "metadata": {},
   "source": [
    "### 1.3 Setting Hyperparameters"
   ]
  },
  {
   "cell_type": "code",
   "execution_count": null,
   "metadata": {
    "colab": {},
    "colab_type": "code",
    "id": "drzxINx9sLog"
   },
   "outputs": [],
   "source": [
    "learning_rate = 0.5\n",
    "epochs = 10\n",
    "batch_size = 128\n",
    "hidden_size = 400\n",
    "shape = x_train.shape[1:]\n",
    "input_size = shape[0]*shape[1]\n",
    "std = 0.03"
   ]
  },
  {
   "cell_type": "markdown",
   "metadata": {},
   "source": [
    "### 1.4 Normalization"
   ]
  },
  {
   "cell_type": "code",
   "execution_count": 4,
   "metadata": {
    "colab": {
     "base_uri": "https://localhost:8080/",
     "height": 51
    },
    "colab_type": "code",
    "id": "qGYVxKTSfKse",
    "outputId": "cc5ccf85-5eb0-4e83-c689-6e305ca737f3"
   },
   "outputs": [
    {
     "name": "stdout",
     "output_type": "stream",
     "text": [
      "Training set (60000, 784) (60000, 10)\n",
      "Test set (10000, 784) (10000, 10)\n"
     ]
    }
   ],
   "source": [
    "image_size = 28\n",
    "num_labels = 10\n",
    "\n",
    "def reformat(dataset, labels):\n",
    "    dataset = tf.cast(tf.reshape(dataset, (-1, image_size * image_size)), tf.float32)\n",
    "    labels = tf.one_hot(labels, depth=num_labels)\n",
    "    return dataset, labels\n",
    "train_dataset, train_labels = reformat(x_train, y_train)\n",
    "test_dataset, test_labels = reformat(x_test, y_test)\n",
    "print('Training set', train_dataset.shape, train_labels.shape)\n",
    "print('Test set', test_dataset.shape, test_labels.shape)"
   ]
  },
  {
   "cell_type": "markdown",
   "metadata": {},
   "source": [
    "### 1.5 Defining Network "
   ]
  },
  {
   "cell_type": "code",
   "execution_count": null,
   "metadata": {
    "colab": {},
    "colab_type": "code",
    "id": "Np8Mub0Mh6rg"
   },
   "outputs": [],
   "source": [
    "hidden_size = 1024\n",
    "\n",
    "# Input data.\n",
    "# Load the training, and test data\n",
    "tf_train_dataset = train_dataset\n",
    "tf_train_labels = train_labels\n",
    "tf_test_dataset = test_dataset\n",
    "\n",
    "# Variables.\n",
    "# These are the parameters that we are going to be training. The weight\n",
    "# matrix will be initialized using random values following a (truncated)\n",
    "# normal distribution. The biases get initialized to zero.\n",
    "weights_1 = tf.Variable(tf.truncated_normal([image_size * image_size, hidden_size]))\n",
    "biases_1 = tf.Variable(tf.zeros([hidden_size]))\n",
    "layer_1 = tf.nn.relu(tf.matmul(tf_train_dataset, weights_1) + biases_1)\n",
    "\n",
    "# layer2  \n",
    "weights_2 = tf.Variable(tf.truncated_normal([hidden_size,num_labels]))\n",
    "biases_2 = tf.Variable(tf.zeros([num_labels]))\n",
    "# Training computation.\n",
    "layer_2 = tf.matmul(layer_1,weights_2) + biases_2\n",
    "\n",
    "# calculating (Loss)' = loss + l2_regularization\n",
    "loss = tf.reduce_mean(tf.nn.softmax_cross_entropy_with_logits_v2(labels=tf_train_labels, logits=layer_2))\n",
    "\n",
    "# Training computation.\n",
    "# We multiply the inputs with the weight matrix, and add biases. We compute\n",
    "# the softmax and cross-entropy. We take the average of this\n",
    "# cross-entropy across all training examples: that's our loss.\n",
    "\n",
    "# Optimizer.\n",
    "# We are going to find the minimum of this loss using gradient descent.\n",
    "optimizer = tf.train.GradientDescentOptimizer(0.0001).minimize(loss)\n",
    "\n",
    "# Predictions for the training and test data.\n",
    "train_prediction = tf.nn.softmax(layer_2)\n",
    "test_prediction = tf.nn.softmax(tf.matmul(tf.nn.relu(tf.matmul(tf_test_dataset, weights_1) + biases_1), weights_2)+ biases_2)"
   ]
  },
  {
   "cell_type": "markdown",
   "metadata": {},
   "source": [
    "### 1.6 Training "
   ]
  },
  {
   "cell_type": "code",
   "execution_count": 78,
   "metadata": {
    "colab": {
     "base_uri": "https://localhost:8080/",
     "height": 238
    },
    "colab_type": "code",
    "id": "xqmlYr13iSCk",
    "outputId": "279e2377-0036-4dc8-d956-52896a74e618"
   },
   "outputs": [
    {
     "name": "stdout",
     "output_type": "stream",
     "text": [
      "Initialized\n",
      "Loss at step 0: 73913.359375\n",
      "Training accuracy: 10.2%\n",
      "Test accuracy: 10.1%\n",
      "Loss at step 100: 3622.128906\n",
      "Training accuracy: 79.9%\n",
      "Test accuracy: 80.6%\n",
      "Loss at step 200: 2568.829834\n",
      "Training accuracy: 84.5%\n",
      "Test accuracy: 84.8%\n",
      "Loss at step 300: 2103.153320\n",
      "Training accuracy: 86.6%\n",
      "Test accuracy: 86.4%\n"
     ]
    }
   ],
   "source": [
    "num_steps = 301\n",
    "\n",
    "def accuracy(predictions, labels):\n",
    "    z = tf.equal(tf.argmax(predictions, axis=1), tf.argmax(labels, axis=1))\n",
    "    z = tf.cast(z, tf.float32)\n",
    "    z = tf.reduce_sum(z, keepdims=True)\n",
    "    z = z * 100./ tf.cast(predictions.shape[0], tf.float32)\n",
    "    return (z.eval())\n",
    "  \n",
    "\n",
    "with tf.Session() as session:\n",
    "    tf.global_variables_initializer().run()\n",
    "    print('Initialized')\n",
    "    for step in range(num_steps):\n",
    "        # Run the computations. We tell .run() that we want to run the optimizer,\n",
    "        # and get the loss value and the training predictions returned as numpy\n",
    "        # arrays.\n",
    "        _, l, predictions = session.run([optimizer, loss, train_prediction])\n",
    "        if (step % 100 == 0):\n",
    "        print('Loss at step %d: %f' % (step, l))\n",
    "        print('Training accuracy: %.1f%%' % accuracy(predictions, train_labels))\n",
    "        # Calling .eval() on valid_prediction is basically like calling run(), but\n",
    "        # just to get that one numpy array.\n",
    "        print('Test accuracy: %.1f%%' % accuracy(test_prediction, test_labels))\n",
    "    ff = test_prediction.eval()"
   ]
  },
  {
   "cell_type": "markdown",
   "metadata": {},
   "source": [
    "### 1.7 Model Config\n",
    "1. Network Architecture\n",
    "2. Learning Rate Value"
   ]
  },
  {
   "cell_type": "markdown",
   "metadata": {},
   "source": [
    "#### 1.7.1 Network Architecture\n",
    "\n",
    "A 2-layer(with input 3) network with 1024 hidden units has been chosen. As we are passing the images itself without any manual or automatical feature extraction (like CNN), 784 feature per image which are spatially relevant can cause underfitting on small networks so increasing number of hidden neurons or hidden layers(in my case hidden neurons) can lead to better learning but as we grow the number of parameters it is important to consider overfitting though.\n",
    "\n",
    "Gradient Descent has been chosen as the optimizer of the loss which is cross-entropy loss.\n",
    "\n",
    "Biases are initialized 0 and weights using small random numbers (a different version in TF1).\n",
    "\n",
    "The linearity between hidden layers has been handled using ReLU activation function which finally classification handled by soft-max activation.\n",
    "\n",
    "I've test a few different configs all for 300 epochs which only this config achieved accuracy higher than %80.\n",
    "The other configs are these:\n",
    "\n",
    "1. 300 Hidden neurons, LR = 0.5\n",
    "2. 400 Hidden Neurons, LR = {0.5, 0.01, 0.001}\n",
    "3. 1024 Hidden Neurons, LR = {0.5, 0.01, 0.001, 0.0001}\n",
    "\n",
    "Note that bigger learning rates like 0.5 aslo could work on higher epoch numbers. "
   ]
  },
  {
   "cell_type": "markdown",
   "metadata": {},
   "source": [
    "#### 1.7.2 Learning Rate Value\n",
    "First of all learning rate depends on network architecture, optimizer and dataset itself. Simply, the loss landscape can tell us may things and so it is different task to task and model to model.\n",
    "\n",
    "One rule of thump that is that initially we need big learning rate to help model explore all feature space then decrease it gradually to help model converge on the best local optima called learning rate annealing or step decay. [ref](http://cs231n.github.io/neural-networks-3/#annealing-the-learning-rate)\n",
    "\n",
    "Generally, finding best learning rate can be obtained during experiment with model which the logic is when the correct learning rate is not chose we see small loss changes (low LR) or bouncing between higher and lower loss values throughout training (high LR) so when we see the steepest drop in loss, the learning rate has been configured almost optimally called cyclical learning rates. [ref](https://arxiv.org/abs/1506.01186)\n",
    "\n",
    "One simple approach that I used in this assignment is GridSearch which you test various number of most prominent learning rates which gave good results in different tasks and model architectures so that's why I have used 0.1, 0.01, etc. These values have been used almost in any tasks and any models.\n",
    "\n",
    "Final words, finding a formula that gives the optimal learning rate is still unknown where [Andrej Karpathy calls it a joke](https://twitter.com/karpathy/status/801621764144971776) (regarding Adam optimizer)"
   ]
  }
 ],
 "metadata": {
  "accelerator": "GPU",
  "colab": {
   "collapsed_sections": [],
   "name": "mnist_tensorflow.ipynb",
   "provenance": []
  },
  "kernelspec": {
   "display_name": "Python 3",
   "language": "python",
   "name": "python3"
  },
  "language_info": {
   "codemirror_mode": {
    "name": "ipython",
    "version": 3
   },
   "file_extension": ".py",
   "mimetype": "text/x-python",
   "name": "python",
   "nbconvert_exporter": "python",
   "pygments_lexer": "ipython3",
   "version": "3.6.6"
  }
 },
 "nbformat": 4,
 "nbformat_minor": 4
}
